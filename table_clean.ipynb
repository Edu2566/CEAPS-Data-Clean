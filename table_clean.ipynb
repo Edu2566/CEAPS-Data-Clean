{
 "cells": [
  {
   "cell_type": "code",
   "execution_count": null,
   "metadata": {},
   "outputs": [],
   "source": [
    "import pandas as pd\n",
    "\n",
    "table = pd.read_csv('despesa_ceaps_2022.csv', delimiter=\";\", encoding=\"utf-8\", decimal=\",\")\n",
    "\n",
    "display(table.info())\n",
    "\n",
    "# Import the database to variable and display it."
   ]
  },
  {
   "cell_type": "code",
   "execution_count": null,
   "metadata": {},
   "outputs": [],
   "source": [
    "table = table.dropna(subset=[\"DOCUMENTO\"])\n",
    "\n",
    "display(table.info())\n",
    "\n",
    "# Drop all lines where DOCUMENTO is empty."
   ]
  },
  {
   "cell_type": "code",
   "execution_count": null,
   "metadata": {},
   "outputs": [],
   "source": [
    "table[\"DETALHAMENTO\"] = table[\"DETALHAMENTO\"].fillna(\"Detalhamento não Especificado\")\n",
    "\n",
    "display(table.info())\n",
    "\n",
    "# Fill with text all lines where DETALHAMENTO is empty."
   ]
  },
  {
   "cell_type": "code",
   "execution_count": null,
   "metadata": {},
   "outputs": [],
   "source": [
    "table[\"FORNECEDOR\"] = table[\"FORNECEDOR\"].str.upper()\n",
    "\n",
    "# Adjust all names in FORNECEDOR column to upper case."
   ]
  },
  {
   "cell_type": "code",
   "execution_count": null,
   "metadata": {},
   "outputs": [],
   "source": [
    "display(table.info())\n",
    "display(table)\n",
    "\n",
    "# Display the table one last time."
   ]
  }
 ],
 "metadata": {
  "kernelspec": {
   "display_name": "Python 3",
   "language": "python",
   "name": "python3"
  },
  "language_info": {
   "codemirror_mode": {
    "name": "ipython",
    "version": 3
   },
   "file_extension": ".py",
   "mimetype": "text/x-python",
   "name": "python",
   "nbconvert_exporter": "python",
   "pygments_lexer": "ipython3",
   "version": "3.12.2"
  }
 },
 "nbformat": 4,
 "nbformat_minor": 2
}
